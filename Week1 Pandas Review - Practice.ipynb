{
 "cells": [
  {
   "cell_type": "markdown",
   "metadata": {},
   "source": [
    "# 2019 Summer\n",
    "\n",
    "## 经济管理中的计算机应用"
   ]
  },
  {
   "cell_type": "code",
   "execution_count": 1,
   "metadata": {},
   "outputs": [],
   "source": [
    "#Name:\n",
    "    \n",
    "    \n",
    "#Student ID:    "
   ]
  },
  {
   "cell_type": "markdown",
   "metadata": {},
   "source": [
    "### Part A. Write Output ( 10 points)"
   ]
  },
  {
   "cell_type": "code",
   "execution_count": 2,
   "metadata": {},
   "outputs": [
    {
     "name": "stdout",
     "output_type": "stream",
     "text": [
      "2\n",
      "2\n",
      "27\n"
     ]
    }
   ],
   "source": [
    "# 1) (3 pt)\n",
    "\n",
    "print( 10 // 4)\n",
    "\n",
    "print( 18 % 4 )\n",
    "\n",
    "print( 3 ** 3) "
   ]
  },
  {
   "cell_type": "code",
   "execution_count": 2,
   "metadata": {},
   "outputs": [
    {
     "name": "stdout",
     "output_type": "stream",
     "text": [
      "No\n"
     ]
    }
   ],
   "source": [
    "# 2) (1 pt)\n",
    "x = 30\n",
    "y = 2\n",
    "\n",
    "if x > 30 or y > 2:\n",
    "    print('Yes')\n",
    "else:\n",
    "    print('No')"
   ]
  },
  {
   "cell_type": "code",
   "execution_count": 3,
   "metadata": {},
   "outputs": [
    {
     "name": "stdout",
     "output_type": "stream",
     "text": [
      "1 \t 5\n",
      "2 \t 10\n",
      "3 \t 15\n"
     ]
    }
   ],
   "source": [
    "# 3) (2 pt)\n",
    "\n",
    "for num in range(1,4):\n",
    "     print(num,'\\t',num*5)"
   ]
  },
  {
   "cell_type": "code",
   "execution_count": 4,
   "metadata": {},
   "outputs": [
    {
     "name": "stdout",
     "output_type": "stream",
     "text": [
      "1\t2\t3\t\n",
      "1\t2\t3\t\n"
     ]
    }
   ],
   "source": [
    "# 4) (2 pt)\n",
    "\n",
    "for row in range(1,3):\n",
    "    for col in range(1,4):\n",
    "        print (col, end='\\t')\n",
    "    print()                          "
   ]
  },
  {
   "cell_type": "code",
   "execution_count": 5,
   "metadata": {},
   "outputs": [
    {
     "name": "stdout",
     "output_type": "stream",
     "text": [
      "res = 30\n"
     ]
    }
   ],
   "source": [
    "# 5) (2 pt)\n",
    "def test(x, y):\n",
    "    if x > y:\n",
    "        return  x\n",
    "    else:\n",
    "        return y\n",
    "    \n",
    "res = test(20,30)\n",
    "print('res =', res)"
   ]
  },
  {
   "cell_type": "markdown",
   "metadata": {},
   "source": [
    "### Part B. Python Programming ( 计算销售佣金 10 points)"
   ]
  },
  {
   "cell_type": "code",
   "execution_count": 6,
   "metadata": {},
   "outputs": [],
   "source": [
    "# 计算销售佣金\n",
    "# Use function getCommissionRate(sales) to compute sale rate\n",
    "# In main function, user enter sales amount and \n",
    "#  invoke getCommissionRate(sales) to compute and display commission\n",
    "\n",
    "#  Sales Commission Rate Table\n",
    "#  Sale Amount                                Rate \n",
    "#  below 10000                                10%\n",
    "#  from 10000 to 20000 (not include 20000)    15%\n",
    "#  Above 20000                                20%"
   ]
  },
  {
   "cell_type": "code",
   "execution_count": 8,
   "metadata": {},
   "outputs": [
    {
     "name": "stdout",
     "output_type": "stream",
     "text": [
      "Enter the sales: 5000\n",
      "Commission is: $ 500.00\n",
      "Enter the sales: 15000\n",
      "Commission is: $ 2250.00\n",
      "Enter the sales: 25000\n",
      "Commission is: $ 5000.00\n"
     ]
    }
   ],
   "source": [
    "# Commission Rate\n",
    "COMMISSION_RATE_1 = 0.1\n",
    "COMMISSION_RATE_2 = 0.15\n",
    "COMMISSION_RATE_3 = 0.2\n",
    "\n",
    "\n",
    "def getCommissionRate(sales):   # (4 pts)\n",
    "    if sales <10000:\n",
    "        rate = COMMISSION_RATE_1\n",
    "    elif sales < 20000:\n",
    "        rate = COMMISSION_RATE_2\n",
    "    else:\n",
    "        rate = COMMISSION_RATE_3\n",
    "    \n",
    "    return rate\n",
    "\n",
    "def main():  # ( 6 pts)\n",
    "    numSales = 3      # number of sales\n",
    "    \n",
    "    for n in range(1, numSales+1):\n",
    "        sales = float(input('Enter the sales: '))\n",
    "        rate = getCommissionRate(sales)\n",
    "        commission = rate*sales\n",
    "        print('Commission is: $' , format(commission,'.2f'))\n",
    "\n",
    "# Invoke \n",
    "main()"
   ]
  },
  {
   "cell_type": "markdown",
   "metadata": {},
   "source": [
    "### Part C: Real Estate Data  Analysis (40 points)"
   ]
  },
  {
   "cell_type": "code",
   "execution_count": 4,
   "metadata": {},
   "outputs": [],
   "source": [
    "%matplotlib inline\n",
    "import pandas as pd"
   ]
  },
  {
   "cell_type": "code",
   "execution_count": 7,
   "metadata": {},
   "outputs": [],
   "source": [
    "# limiting the display rows\n",
    "pd.set_option('display.max_rows', 6)"
   ]
  },
  {
   "cell_type": "code",
   "execution_count": 8,
   "metadata": {},
   "outputs": [
    {
     "name": "stdout",
     "output_type": "stream",
     "text": [
      "(81, 6)\n"
     ]
    },
    {
     "data": {
      "text/html": [
       "<div>\n",
       "<style scoped>\n",
       "    .dataframe tbody tr th:only-of-type {\n",
       "        vertical-align: middle;\n",
       "    }\n",
       "\n",
       "    .dataframe tbody tr th {\n",
       "        vertical-align: top;\n",
       "    }\n",
       "\n",
       "    .dataframe thead th {\n",
       "        text-align: right;\n",
       "    }\n",
       "</style>\n",
       "<table border=\"1\" class=\"dataframe\">\n",
       "  <thead>\n",
       "    <tr style=\"text-align: right;\">\n",
       "      <th></th>\n",
       "      <th>No</th>\n",
       "      <th>Address</th>\n",
       "      <th>City</th>\n",
       "      <th>Agent</th>\n",
       "      <th>Type</th>\n",
       "      <th>Price</th>\n",
       "    </tr>\n",
       "  </thead>\n",
       "  <tbody>\n",
       "    <tr>\n",
       "      <th>0</th>\n",
       "      <td>1</td>\n",
       "      <td>8687 Kenwood Road</td>\n",
       "      <td>Cedar Hills</td>\n",
       "      <td>Hernandez</td>\n",
       "      <td>Single House</td>\n",
       "      <td>725000</td>\n",
       "    </tr>\n",
       "    <tr>\n",
       "      <th>1</th>\n",
       "      <td>2</td>\n",
       "      <td>11 West Oak Circle</td>\n",
       "      <td>American Fork</td>\n",
       "      <td>Carey</td>\n",
       "      <td>Town House</td>\n",
       "      <td>350000</td>\n",
       "    </tr>\n",
       "    <tr>\n",
       "      <th>2</th>\n",
       "      <td>3</td>\n",
       "      <td>314 Timp View Drive</td>\n",
       "      <td>American Fork</td>\n",
       "      <td>Goodrich</td>\n",
       "      <td>Single House</td>\n",
       "      <td>418000</td>\n",
       "    </tr>\n",
       "    <tr>\n",
       "      <th>...</th>\n",
       "      <td>...</td>\n",
       "      <td>...</td>\n",
       "      <td>...</td>\n",
       "      <td>...</td>\n",
       "      <td>...</td>\n",
       "      <td>...</td>\n",
       "    </tr>\n",
       "    <tr>\n",
       "      <th>78</th>\n",
       "      <td>79</td>\n",
       "      <td>600 Ivy Lane</td>\n",
       "      <td>Eagle Mountain</td>\n",
       "      <td>Pijuan</td>\n",
       "      <td>Town House</td>\n",
       "      <td>339999</td>\n",
       "    </tr>\n",
       "    <tr>\n",
       "      <th>79</th>\n",
       "      <td>80</td>\n",
       "      <td>144 Oak Avenue</td>\n",
       "      <td>American Fork</td>\n",
       "      <td>Goodrich</td>\n",
       "      <td>Town House</td>\n",
       "      <td>380500</td>\n",
       "    </tr>\n",
       "    <tr>\n",
       "      <th>80</th>\n",
       "      <td>81</td>\n",
       "      <td>1600 Reeves Street</td>\n",
       "      <td>Cedar Hills</td>\n",
       "      <td>Reuter</td>\n",
       "      <td>Apartment</td>\n",
       "      <td>245900</td>\n",
       "    </tr>\n",
       "  </tbody>\n",
       "</table>\n",
       "<p>81 rows × 6 columns</p>\n",
       "</div>"
      ],
      "text/plain": [
       "    No              Address            City      Agent          Type   Price\n",
       "0    1    8687 Kenwood Road     Cedar Hills  Hernandez  Single House  725000\n",
       "1    2   11 West Oak Circle   American Fork      Carey    Town House  350000\n",
       "2    3  314 Timp View Drive   American Fork   Goodrich  Single House  418000\n",
       "..  ..                  ...             ...        ...           ...     ...\n",
       "78  79         600 Ivy Lane  Eagle Mountain     Pijuan    Town House  339999\n",
       "79  80       144 Oak Avenue   American Fork   Goodrich    Town House  380500\n",
       "80  81   1600 Reeves Street     Cedar Hills     Reuter     Apartment  245900\n",
       "\n",
       "[81 rows x 6 columns]"
      ]
     },
     "execution_count": 8,
     "metadata": {},
     "output_type": "execute_result"
    }
   ],
   "source": [
    "realEstate = pd.read_csv('data/e05RealEstate.csv')\n",
    "print(realEstate.shape)\n",
    "realEstate"
   ]
  },
  {
   "cell_type": "code",
   "execution_count": 9,
   "metadata": {},
   "outputs": [
    {
     "data": {
      "text/html": [
       "<div>\n",
       "<style scoped>\n",
       "    .dataframe tbody tr th:only-of-type {\n",
       "        vertical-align: middle;\n",
       "    }\n",
       "\n",
       "    .dataframe tbody tr th {\n",
       "        vertical-align: top;\n",
       "    }\n",
       "\n",
       "    .dataframe thead th {\n",
       "        text-align: right;\n",
       "    }\n",
       "</style>\n",
       "<table border=\"1\" class=\"dataframe\">\n",
       "  <thead>\n",
       "    <tr style=\"text-align: right;\">\n",
       "      <th></th>\n",
       "      <th>No</th>\n",
       "      <th>City</th>\n",
       "      <th>Type</th>\n",
       "      <th>Price</th>\n",
       "    </tr>\n",
       "  </thead>\n",
       "  <tbody>\n",
       "    <tr>\n",
       "      <th>0</th>\n",
       "      <td>1</td>\n",
       "      <td>Cedar Hills</td>\n",
       "      <td>Single House</td>\n",
       "      <td>725000</td>\n",
       "    </tr>\n",
       "    <tr>\n",
       "      <th>1</th>\n",
       "      <td>2</td>\n",
       "      <td>American Fork</td>\n",
       "      <td>Town House</td>\n",
       "      <td>350000</td>\n",
       "    </tr>\n",
       "    <tr>\n",
       "      <th>2</th>\n",
       "      <td>3</td>\n",
       "      <td>American Fork</td>\n",
       "      <td>Single House</td>\n",
       "      <td>418000</td>\n",
       "    </tr>\n",
       "    <tr>\n",
       "      <th>...</th>\n",
       "      <td>...</td>\n",
       "      <td>...</td>\n",
       "      <td>...</td>\n",
       "      <td>...</td>\n",
       "    </tr>\n",
       "    <tr>\n",
       "      <th>78</th>\n",
       "      <td>79</td>\n",
       "      <td>Eagle Mountain</td>\n",
       "      <td>Town House</td>\n",
       "      <td>339999</td>\n",
       "    </tr>\n",
       "    <tr>\n",
       "      <th>79</th>\n",
       "      <td>80</td>\n",
       "      <td>American Fork</td>\n",
       "      <td>Town House</td>\n",
       "      <td>380500</td>\n",
       "    </tr>\n",
       "    <tr>\n",
       "      <th>80</th>\n",
       "      <td>81</td>\n",
       "      <td>Cedar Hills</td>\n",
       "      <td>Apartment</td>\n",
       "      <td>245900</td>\n",
       "    </tr>\n",
       "  </tbody>\n",
       "</table>\n",
       "<p>81 rows × 4 columns</p>\n",
       "</div>"
      ],
      "text/plain": [
       "    No            City          Type   Price\n",
       "0    1     Cedar Hills  Single House  725000\n",
       "1    2   American Fork    Town House  350000\n",
       "2    3   American Fork  Single House  418000\n",
       "..  ..             ...           ...     ...\n",
       "78  79  Eagle Mountain    Town House  339999\n",
       "79  80   American Fork    Town House  380500\n",
       "80  81     Cedar Hills     Apartment  245900\n",
       "\n",
       "[81 rows x 4 columns]"
      ]
     },
     "execution_count": 9,
     "metadata": {},
     "output_type": "execute_result"
    }
   ],
   "source": [
    "# Problem 1. (3 points)\n",
    "# Diplay DataFrame realEstate's four columns: No, City, Type and Price \n",
    "\n",
    "res = realEstate\n",
    "res = res[['No', 'City', 'Type', 'Price']]\n",
    "res"
   ]
  },
  {
   "cell_type": "code",
   "execution_count": 16,
   "metadata": {},
   "outputs": [
    {
     "name": "stdout",
     "output_type": "stream",
     "text": [
      "Type: 0    Single House\n",
      "1      Town House\n",
      "3       Apartment\n",
      "Name: Type, dtype: object\n"
     ]
    }
   ],
   "source": [
    "# Problem 2. (3 points)\n",
    "# Show all real estate type with no duplicate. \n",
    "\n",
    "res = realEstate\n",
    "\n",
    "res = res.drop_duplicates(subset=['Type'], keep='first').Type\n",
    "\n",
    "#res = realEstate.Type.unique()\n",
    "print('Type:', res)\n",
    "\n"
   ]
  },
  {
   "cell_type": "code",
   "execution_count": 15,
   "metadata": {},
   "outputs": [
    {
     "data": {
      "text/html": [
       "<div>\n",
       "<style scoped>\n",
       "    .dataframe tbody tr th:only-of-type {\n",
       "        vertical-align: middle;\n",
       "    }\n",
       "\n",
       "    .dataframe tbody tr th {\n",
       "        vertical-align: top;\n",
       "    }\n",
       "\n",
       "    .dataframe thead th {\n",
       "        text-align: right;\n",
       "    }\n",
       "</style>\n",
       "<table border=\"1\" class=\"dataframe\">\n",
       "  <thead>\n",
       "    <tr style=\"text-align: right;\">\n",
       "      <th></th>\n",
       "      <th>No</th>\n",
       "      <th>Address</th>\n",
       "      <th>City</th>\n",
       "      <th>Agent</th>\n",
       "      <th>Type</th>\n",
       "      <th>Price</th>\n",
       "    </tr>\n",
       "  </thead>\n",
       "  <tbody>\n",
       "    <tr>\n",
       "      <th>31</th>\n",
       "      <td>32</td>\n",
       "      <td>9408 Forest Hills Circle</td>\n",
       "      <td>Cedar Hills</td>\n",
       "      <td>Reuter</td>\n",
       "      <td>Apartment</td>\n",
       "      <td>185500</td>\n",
       "    </tr>\n",
       "    <tr>\n",
       "      <th>58</th>\n",
       "      <td>59</td>\n",
       "      <td>21 Compass Road</td>\n",
       "      <td>Cedar Hills</td>\n",
       "      <td>Merkin</td>\n",
       "      <td>Apartment</td>\n",
       "      <td>289900</td>\n",
       "    </tr>\n",
       "    <tr>\n",
       "      <th>67</th>\n",
       "      <td>68</td>\n",
       "      <td>4916 Rock Spring Road</td>\n",
       "      <td>Cedar Hills</td>\n",
       "      <td>Lugo</td>\n",
       "      <td>Apartment</td>\n",
       "      <td>275000</td>\n",
       "    </tr>\n",
       "    <tr>\n",
       "      <th>70</th>\n",
       "      <td>71</td>\n",
       "      <td>1132 SW 52nd Street</td>\n",
       "      <td>Cedar Hills</td>\n",
       "      <td>Hernandez</td>\n",
       "      <td>Apartment</td>\n",
       "      <td>254500</td>\n",
       "    </tr>\n",
       "    <tr>\n",
       "      <th>80</th>\n",
       "      <td>81</td>\n",
       "      <td>1600 Reeves Street</td>\n",
       "      <td>Cedar Hills</td>\n",
       "      <td>Reuter</td>\n",
       "      <td>Apartment</td>\n",
       "      <td>245900</td>\n",
       "    </tr>\n",
       "  </tbody>\n",
       "</table>\n",
       "</div>"
      ],
      "text/plain": [
       "    No                   Address         City      Agent       Type   Price\n",
       "31  32  9408 Forest Hills Circle  Cedar Hills     Reuter  Apartment  185500\n",
       "58  59           21 Compass Road  Cedar Hills     Merkin  Apartment  289900\n",
       "67  68     4916 Rock Spring Road  Cedar Hills       Lugo  Apartment  275000\n",
       "70  71       1132 SW 52nd Street  Cedar Hills  Hernandez  Apartment  254500\n",
       "80  81        1600 Reeves Street  Cedar Hills     Reuter  Apartment  245900"
      ]
     },
     "execution_count": 15,
     "metadata": {},
     "output_type": "execute_result"
    }
   ],
   "source": [
    "# Problem 3. ( 6 pts)\n",
    "# List all Apartment sold in city Cedar Hills\n",
    "# res[(res.City=='Cedar Hills') & (res.Type=='Apartment')]  2 + 2 + 2 = 6 pts\n",
    "\n",
    "res = realEstate\n",
    "res = res[(res.City=='Cedar Hills') & (res.Type=='Apartment')]\n",
    "res"
   ]
  },
  {
   "cell_type": "code",
   "execution_count": 16,
   "metadata": {},
   "outputs": [
    {
     "data": {
      "text/html": [
       "<div>\n",
       "<style scoped>\n",
       "    .dataframe tbody tr th:only-of-type {\n",
       "        vertical-align: middle;\n",
       "    }\n",
       "\n",
       "    .dataframe tbody tr th {\n",
       "        vertical-align: top;\n",
       "    }\n",
       "\n",
       "    .dataframe thead th {\n",
       "        text-align: right;\n",
       "    }\n",
       "</style>\n",
       "<table border=\"1\" class=\"dataframe\">\n",
       "  <thead>\n",
       "    <tr style=\"text-align: right;\">\n",
       "      <th></th>\n",
       "      <th>No</th>\n",
       "      <th>Address</th>\n",
       "      <th>City</th>\n",
       "      <th>Agent</th>\n",
       "      <th>Type</th>\n",
       "      <th>Price</th>\n",
       "    </tr>\n",
       "  </thead>\n",
       "  <tbody>\n",
       "    <tr>\n",
       "      <th>39</th>\n",
       "      <td>40</td>\n",
       "      <td>401 Pinecone Circle</td>\n",
       "      <td>Alpine</td>\n",
       "      <td>Goodrich</td>\n",
       "      <td>Apartment</td>\n",
       "      <td>1500120</td>\n",
       "    </tr>\n",
       "    <tr>\n",
       "      <th>10</th>\n",
       "      <td>11</td>\n",
       "      <td>15 West Oak Circle</td>\n",
       "      <td>American Fork</td>\n",
       "      <td>Hernandez</td>\n",
       "      <td>Apartment</td>\n",
       "      <td>325000</td>\n",
       "    </tr>\n",
       "    <tr>\n",
       "      <th>57</th>\n",
       "      <td>58</td>\n",
       "      <td>876 South California Way</td>\n",
       "      <td>American Fork</td>\n",
       "      <td>Hen</td>\n",
       "      <td>Apartment</td>\n",
       "      <td>316000</td>\n",
       "    </tr>\n",
       "  </tbody>\n",
       "</table>\n",
       "</div>"
      ],
      "text/plain": [
       "    No                   Address           City      Agent       Type    Price\n",
       "39  40       401 Pinecone Circle         Alpine   Goodrich  Apartment  1500120\n",
       "10  11        15 West Oak Circle  American Fork  Hernandez  Apartment   325000\n",
       "57  58  876 South California Way  American Fork        Hen  Apartment   316000"
      ]
     },
     "execution_count": 16,
     "metadata": {},
     "output_type": "execute_result"
    }
   ],
   "source": [
    "#  Problem 4. ( 8 pts)\n",
    "#  List Apartment of top three highest price \n",
    "#  Basic                                      1 pt\n",
    "#  res[res.Type=='Apartment']                 2 pt \n",
    "#  sort_values(by='Price', ascending=False)   3 pts \n",
    "#  head(3)                                    2 pts\n",
    "\n",
    "res = realEstate\n",
    "res = res[res.Type=='Apartment'].sort_values(by='Price', ascending=False).head(3)\n",
    "res\n"
   ]
  },
  {
   "cell_type": "code",
   "execution_count": 13,
   "metadata": {},
   "outputs": [
    {
     "name": "stdout",
     "output_type": "stream",
     "text": [
      "Apartment Average Price:  $ 292,912.27\n"
     ]
    }
   ],
   "source": [
    "#  Problem 5. ( 8 pts)\n",
    "#  Show the average price of Apartment as the following result. \n",
    "#  Basic                                      1 pt\n",
    "#  res[res.Type=='Apartment']                 2 pt \n",
    "#  Price.mean()                               4 pts \n",
    "#  Format                                     1 pts\n",
    "\n",
    "res = realEstate\n",
    "\n",
    "res = res[res.Type=='Apartment'].Price.mean()\n",
    "\n",
    "\n",
    "print('Apartment Average Price:  $' , format(res,',.2f'))"
   ]
  },
  {
   "cell_type": "code",
   "execution_count": 18,
   "metadata": {},
   "outputs": [
    {
     "name": "stdout",
     "output_type": "stream",
     "text": [
      "City\n",
      "Alpine            14\n",
      "American Fork     20\n",
      "Cedar Hills       12\n",
      "Eagle Mountain    24\n",
      "Lehi              11\n",
      "Name: No, dtype: int64\n"
     ]
    },
    {
     "data": {
      "text/plain": [
       "<matplotlib.axes._subplots.AxesSubplot at 0x1ec8ed62160>"
      ]
     },
     "execution_count": 18,
     "metadata": {},
     "output_type": "execute_result"
    },
    {
     "data": {
      "image/png": "[encoded data removed]",
      "text/plain": [
       "<Figure size 432x288 with 1 Axes>"
      ]
     },
     "metadata": {
      "needs_background": "light"
     },
     "output_type": "display_data"
    }
   ],
   "source": [
    "# Problem 6. ( 8 pts)\n",
    "# Show the number of real estate in each city.\n",
    "# res.groupby('City')       3 pt \n",
    "# no.count()                3 pts\n",
    "# plot as flowing example   2 pts\n",
    "\n",
    "res = realEstate\n",
    "\n",
    "#res = res.groupby('City').No.count().sort_values(ascending=False)\n",
    "\n",
    "res = realEstate.groupby('City').No.count()\n",
    "\n",
    "#res = realEstate.City.value_counts().sort_index()\n",
    "\n",
    "print(res)\n",
    "\n",
    "res.plot(kind ='bar', title ='Number of Real Estate in Each City',rot=45)"
   ]
  },
  {
   "cell_type": "code",
   "execution_count": 19,
   "metadata": {},
   "outputs": [
    {
     "name": "stdout",
     "output_type": "stream",
     "text": [
      "City\n",
      "Alpine            473364.000000\n",
      "American Fork     304100.000000\n",
      "Eagle Mountain    285179.800000\n",
      "Cedar Hills       250160.000000\n",
      "Lehi              175283.333333\n",
      "Name: Price, dtype: float64\n"
     ]
    },
    {
     "data": {
      "text/plain": [
       "<matplotlib.axes._subplots.AxesSubplot at 0x1ec8f047748>"
      ]
     },
     "execution_count": 19,
     "metadata": {},
     "output_type": "execute_result"
    },
    {
     "data": {
      "image/png": "[encoded data removed]",
      "text/plain": [
       "<Figure size 432x288 with 1 Axes>"
      ]
     },
     "metadata": {
      "needs_background": "light"
     },
     "output_type": "display_data"
    }
   ],
   "source": [
    "# Problem 7. ( 16 pt)\n",
    "# Show the Apartment Average Price in each city, from high to low\n",
    "# And plot the result as bar chart\n",
    "\n",
    "#   res[res.Type=='Apartment'].   (2 pts)\n",
    "#  .groupby('City')  (4 pt )\n",
    "#   .Price.mean().  (4 pt )\n",
    "#   .sort_values(ascending=False)  (4 pt )\n",
    "#  .plot 2 pts\n",
    "\n",
    "\n",
    "res = realEstate\n",
    "res = res[res.Type=='Apartment'].groupby('City').Price.mean().sort_values(ascending=False)\n",
    "print(res)\n",
    "\n",
    "res.plot(kind='bar',title='Apartment Average Price in Each City',rot =45)\n"
   ]
  },
  {
   "cell_type": "code",
   "execution_count": 23,
   "metadata": {},
   "outputs": [
    {
     "name": "stdout",
     "output_type": "stream",
     "text": [
      "Number of Real Estate by City and Type\n",
      "--------------------------------------\n",
      "City    Type        \n",
      "Alpine  Apartment       5\n",
      "        Single House    5\n",
      "        Town House      4\n",
      "                       ..\n",
      "Lehi    Apartment       6\n",
      "        Single House    1\n",
      "        Town House      4\n",
      "Name: No, Length: 14, dtype: int64\n"
     ]
    }
   ],
   "source": [
    "# Problem 8. (8 pts)\n",
    "# \n",
    "# groupby([res.City, res.Type]) ( 4 pts)\n",
    "# No.count()  (4 pt)\n",
    "\n",
    "res = realEstate\n",
    "res = res.groupby([res.City, res.Type]).No.count()\n",
    "print('Number of Real Estate by City and Type')\n",
    "print('--------------------------------------')\n",
    "print(res)\n"
   ]
  },
  {
   "cell_type": "code",
   "execution_count": 24,
   "metadata": {},
   "outputs": [
    {
     "name": "stdout",
     "output_type": "stream",
     "text": [
      "Number of real estate by city and type\n",
      "--------------------------------------------------------------\n",
      "Type            Apartment  Single House  Town House\n",
      "City                                               \n",
      "Alpine                5.0           5.0         4.0\n",
      "American Fork         5.0           8.0         7.0\n",
      "Cedar Hills           5.0           7.0         NaN\n",
      "Eagle Mountain        5.0          11.0         8.0\n",
      "Lehi                  6.0           1.0         4.0\n",
      "\n",
      "\n"
     ]
    },
    {
     "data": {
      "text/plain": [
       "<matplotlib.axes._subplots.AxesSubplot at 0x1ec8f0f02e8>"
      ]
     },
     "execution_count": 24,
     "metadata": {},
     "output_type": "execute_result"
    },
    {
     "data": {
      "image/png": "[encoded data removed]",
      "text/plain": [
       "<Figure size 432x288 with 1 Axes>"
      ]
     },
     "metadata": {
      "needs_background": "light"
     },
     "output_type": "display_data"
    }
   ],
   "source": [
    "# Bonus: 5 pts\n",
    "# Based on the result of last problem\n",
    "# A) Change the Type as column. (3 pts)\n",
    "#    Display the result as following example\n",
    "# B) Plot the result as bar chart (2 pts)\n",
    "\n",
    "\n",
    "res = res.unstack()\n",
    "print('Number of real estate by city and type')\n",
    "print('--------------------------------------------------------------')\n",
    "print(res)\n",
    "\n",
    "print('\\n')\n",
    "res.plot(kind='bar',title='Number of Sold Real Estate in Each City',legend='best',rot=45)"
   ]
  }
 ],
 "metadata": {
  "kernelspec": {
   "display_name": "Python 3",
   "language": "python",
   "name": "python3"
  },
  "language_info": {
   "codemirror_mode": {
    "name": "ipython",
    "version": 3
   },
   "file_extension": ".py",
   "mimetype": "text/x-python",
   "name": "python",
   "nbconvert_exporter": "python",
   "pygments_lexer": "ipython3",
   "version": "3.7.3"
  }
 },
 "nbformat": 4,
 "nbformat_minor": 2
}
