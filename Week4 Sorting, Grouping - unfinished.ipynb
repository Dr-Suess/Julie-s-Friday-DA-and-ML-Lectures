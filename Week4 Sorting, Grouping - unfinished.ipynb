{
 "cells": [
  {
   "cell_type": "markdown",
   "metadata": {},
   "source": [
    "# Week 4 Data Sorting, grouping\n"
   ]
  },
  {
   "cell_type": "code",
   "execution_count": null,
   "metadata": {},
   "outputs": [],
   "source": [
    "%matplotlib inline\n",
    "import pandas as pd\n",
    "import matplotlib.pyplot as plt\n",
    "import matplotlib\n",
    "plt.rc('figure', figsize=(10, 8))"
   ]
  },
  {
   "cell_type": "code",
   "execution_count": null,
   "metadata": {},
   "outputs": [],
   "source": [
    "data = pd.read_csv('data//owid-covid-data.csv')"
   ]
  },
  {
   "cell_type": "code",
   "execution_count": null,
   "metadata": {
    "scrolled": true
   },
   "outputs": [],
   "source": [
    "# limiting the display rows\n",
    "pd.set_option('display.max_rows', 5)\n",
    "data"
   ]
  },
  {
   "cell_type": "code",
   "execution_count": null,
   "metadata": {},
   "outputs": [],
   "source": [
    "df = data[ (data['location'] != 'World') ]\n",
    "df"
   ]
  },
  {
   "cell_type": "code",
   "execution_count": null,
   "metadata": {},
   "outputs": [],
   "source": [
    "# show last five rows\n",
    "df.tail()     "
   ]
  },
  {
   "cell_type": "code",
   "execution_count": null,
   "metadata": {},
   "outputs": [],
   "source": [
    "# Show number of records \n",
    "import random\n",
    "number = random.randint(0,10000)\n",
    "print(\"You name , id: \", number )\n",
    "print('------------------------------')"
   ]
  },
  {
   "cell_type": "markdown",
   "metadata": {},
   "source": [
    "## A) Handling Missing Data\n",
    "\n",
    "### use isnull() vs. notnull()\n",
    "### use dropna\n",
    "### use replacena"
   ]
  },
  {
   "cell_type": "code",
   "execution_count": null,
   "metadata": {},
   "outputs": [],
   "source": [
    "# show the number of rows and columns of datafram \n"
   ]
  },
  {
   "cell_type": "code",
   "execution_count": null,
   "metadata": {},
   "outputs": [],
   "source": [
    "# Show all continents\n",
    "df['continent']"
   ]
  },
  {
   "cell_type": "code",
   "execution_count": null,
   "metadata": {},
   "outputs": [],
   "source": [
    "# Show all unique continents\n"
   ]
  },
  {
   "cell_type": "code",
   "execution_count": null,
   "metadata": {},
   "outputs": [],
   "source": [
    "# Use .isnull()  vs. .notnull()\n",
    "df.continent.isnull()\n",
    "df['continent'].isnull()\n",
    "\n",
    "#\n",
    "df.continent.notnull()\n"
   ]
  },
  {
   "cell_type": "code",
   "execution_count": null,
   "metadata": {},
   "outputs": [],
   "source": [
    "# Use len\n",
    "#\n",
    "print( len( df.continent.isnull()) )\n",
    "\n",
    "print( len( df.continent.notnull()) )\n",
    "\n",
    "# Same, why?"
   ]
  },
  {
   "cell_type": "code",
   "execution_count": null,
   "metadata": {},
   "outputs": [],
   "source": [
    "# Show all records which continent is null\n",
    "\n",
    "df[df.continent.isnull()]\n"
   ]
  },
  {
   "cell_type": "code",
   "execution_count": null,
   "metadata": {},
   "outputs": [],
   "source": [
    "# Show the number of records which have no data for continent \n",
    "# Show the number of records with continent info\n",
    "\n",
    "print('The number records missing data for continent')\n",
    "print( len( df[df.continent.isnull()] ) )\n",
    "\n",
    "print( len( df[df.continent.notnull()]) )\n"
   ]
  },
  {
   "cell_type": "code",
   "execution_count": null,
   "metadata": {},
   "outputs": [],
   "source": [
    "#  Show the the last five those records which have no data for continent\n",
    "\n",
    "df[df.continent.isnull()].tail()"
   ]
  },
  {
   "cell_type": "code",
   "execution_count": null,
   "metadata": {},
   "outputs": [],
   "source": [
    "# Show the number records of missing location\n",
    "\n"
   ]
  },
  {
   "cell_type": "code",
   "execution_count": null,
   "metadata": {},
   "outputs": [],
   "source": [
    "# Show the number records of miss data for continent and iso_code\n",
    "\n"
   ]
  },
  {
   "cell_type": "code",
   "execution_count": null,
   "metadata": {},
   "outputs": [],
   "source": [
    "# Show the the first ten those records\n",
    "\n",
    "print('The number records missing data for continent and iso_code')\n",
    "\n"
   ]
  },
  {
   "cell_type": "code",
   "execution_count": null,
   "metadata": {},
   "outputs": [],
   "source": [
    "# Focus on US, first need find US location name \n",
    "\n",
    "countries = df['location'].unique()\n",
    "\n",
    "for country in countries:\n",
    "    print(country)"
   ]
  },
  {
   "cell_type": "code",
   "execution_count": null,
   "metadata": {},
   "outputs": [],
   "source": [
    "# US recor\n"
   ]
  },
  {
   "cell_type": "code",
   "execution_count": null,
   "metadata": {},
   "outputs": [],
   "source": [
    "# How many rows and columns\n"
   ]
  },
  {
   "cell_type": "code",
   "execution_count": null,
   "metadata": {},
   "outputs": [],
   "source": [
    "# For USA, which columns has missing data \n",
    "\n",
    "\n",
    "col_names = res.columns\n",
    "col_names\n",
    "\n",
    "print('The following columns ar missing data for US')\n",
    "\n",
    "print(' Column Name \\t\\t\\t\\tMissing Data')\n",
    "print('------------------------------------------------')\n",
    "for col_name in col_names:\n",
    "    num = len(   res[ res[col_name].isnull() ] )\n",
    "    if num > 0 :\n",
    "        print( '{0: <40}'.format(col_name) , num)"
   ]
  },
  {
   "cell_type": "code",
   "execution_count": null,
   "metadata": {},
   "outputs": [],
   "source": [
    "\n",
    "#df.columns\n",
    "\n",
    "df.shape\n",
    "# .dropna() vs. . dropna(how='all')\n",
    "\n",
    "# show the result after droping rows which have at least one NaN data in the dataset () \n",
    "res\n",
    "cleaned = res.dropna()\n",
    "\n",
    "print('After using .dropn(), total records: ')\n",
    "print(len(cleaned))\n"
   ]
  },
  {
   "cell_type": "code",
   "execution_count": null,
   "metadata": {
    "scrolled": true
   },
   "outputs": [],
   "source": [
    "# show the result after after droping rows which all data is NaN in the dataset ()  \n",
    "\n",
    "cleaned = res.dropna(how='all')\n",
    "\n",
    "print(\"After using .dropna(how='all'), total records:\")\n",
    "print(len(cleaned))\n",
    "cleaned"
   ]
  },
  {
   "cell_type": "markdown",
   "metadata": {},
   "source": [
    "# Sorting, Grouping and Plotting\n",
    "\n",
    "## df.sort_values(by=['a','b'], ascending = True)\n",
    "## df.sort_index()\n",
    "## df.groupby( )"
   ]
  },
  {
   "cell_type": "code",
   "execution_count": null,
   "metadata": {},
   "outputs": [],
   "source": [
    "# Group all cases by continent\n",
    "cases = df.groupby(df.continent).new_cases.sum()\n",
    "cases"
   ]
  },
  {
   "cell_type": "code",
   "execution_count": null,
   "metadata": {},
   "outputs": [],
   "source": [
    "# Sort\n",
    "cases = cases.sort_values(ascending = False)\n",
    "cases"
   ]
  },
  {
   "cell_type": "code",
   "execution_count": null,
   "metadata": {},
   "outputs": [],
   "source": [
    "# Group all cases by location , become series\n",
    "cases = df.groupby(df.location).new_cases.sum()\n",
    "cases"
   ]
  },
  {
   "cell_type": "code",
   "execution_count": null,
   "metadata": {},
   "outputs": [],
   "source": [
    "\n",
    "# Find the top 10 countries which have the most covid cases\n",
    "\n",
    "cases = cases.sort_values(ascending = False)\n",
    "cases\n",
    "\n",
    "res = cases.head(10)\n",
    "#print(res)\n",
    "countries = res.index\n",
    "\n",
    "print('10 countries which have the most covid cases')\n",
    "print('Country              covid cases')\n",
    "print('------------------------------------------------')\n",
    "for country in countries:\n",
    "    print('{0: <20}'.format(country), '\\t', format(res[country],'.0f'))"
   ]
  },
  {
   "cell_type": "code",
   "execution_count": null,
   "metadata": {},
   "outputs": [],
   "source": [
    "# Use bar chart to show the top 10 countries which have the most covid cases. (3 pts)\n",
    "\n",
    "res = cases.head(10)\n",
    "res\n",
    "\n",
    "print(res.index)\n",
    "print(res.values)\n",
    "\n",
    "res.plot(kind='bar', title='10 countries which have the most covid cases')"
   ]
  },
  {
   "cell_type": "code",
   "execution_count": null,
   "metadata": {},
   "outputs": [],
   "source": [
    "# df.sort_values(by=['a','b'], ascending = True)\n"
   ]
  },
  {
   "cell_type": "code",
   "execution_count": null,
   "metadata": {},
   "outputs": [],
   "source": [
    "\n",
    "\n",
    "#  Show int worldwide, which ten day has the most new cases? \n",
    "\n",
    "#  Use line chart to show the top 10 days which have the most new covid cases \n",
    "\n",
    "# Group all cases by location , become series\n",
    "cases = df.groupby(df.date).new_cases.sum()\n",
    "cases = cases.sort_values(ascending = False)\n",
    "#print(cases)\n",
    "\n",
    "res = cases.head(10)\n",
    "res = res.sort_index()\n",
    "#print(res)\n",
    "days = res.index\n",
    "\n",
    "print('Ten days which have the most covid cases')\n",
    "print('Date              covid cases')\n",
    "print('------------------------------------------------')\n",
    "for day in days:\n",
    "    print(day, '\\t', format(res[day],'.0f'))\n",
    "    \n",
    "    \n",
    "# Draw bar chart\n",
    "#  Add tilte, xlabel, ylabes\n",
    "plt.title(\"Top ten days which have the most new covid cases\")\n",
    "plt.xlabel(\"Date\")\n",
    "plt.ylabel(\"Numbers\")\n",
    "\n",
    "plt.plot(res.index,res.values, color='b')\n",
    "#\n",
    "res.plot(kind='line', rot=45,linestyle='dashed', marker='o')"
   ]
  },
  {
   "cell_type": "code",
   "execution_count": null,
   "metadata": {},
   "outputs": [],
   "source": [
    "\n",
    "\n",
    "# On 2021-1-15, which ten countries has the most new cases? \n",
    "\n",
    "#    Use bar chart to show the top 10 locations which have the most new covid cases \n",
    "\n",
    "res = df[df.date=='2021-01-15']\n",
    "\n",
    "# Sorting cases \n",
    "cases = res.sort_values(by='new_cases', ascending = False)\n",
    "\n",
    "res = cases.head(10)[['location','new_cases']]\n",
    "# res = res.sort_index()\n",
    "#print(res)\n",
    "\n",
    "\n",
    "# Display dataframe\n",
    "print('On 2020-11-30')\n",
    "print('10 countries which have the most covid cases on 2020-11-30')\n",
    "print('Country              covid cases')\n",
    "print('------------------------------------------------')\n",
    "\n",
    "\n",
    "for i in res.index:\n",
    "    country = res['location'][i]\n",
    "    new_cases = res['new_cases'][i]\n",
    "    print('{0: <20}'.format(country), '\\t', format(new_cases,'.0f'))\n",
    "\n",
    "\n",
    "# Draw bar chart\n",
    "#  Add tilte, xlabel, ylabes\n",
    "plt.title(\"'10 countries which have the most covid cases on 2020-11-30'\")\n",
    "plt.xlabel(\"Date\")\n",
    "plt.ylabel(\"Numbers\")\n",
    "\n",
    "plt.bar(res['location'],res['new_cases'], color='b')\n",
    "#\n",
    "#res.plot(kind='line', rot=45,linestyle='dashed', marker='o')"
   ]
  },
  {
   "cell_type": "code",
   "execution_count": null,
   "metadata": {},
   "outputs": [],
   "source": [
    "\n",
    "#  Show last seven days, the new cases in US (Chose one country),\n",
    "#  Plot a line chart\n",
    "\n",
    "cases = df[df.location=='United States'].sort_values(by ='date', ascending=True)\n",
    "cases\n",
    "res = cases[['date', 'new_cases']].tail(7)\n",
    "\n",
    "print('\\nIn the past seven days, the new cases in Brazil')\n",
    "print('Date             covid cases')\n",
    "print('------------------------------------------')\n",
    "dates = res['date']\n",
    "for i in res.index:\n",
    "    print(res['date'][i], '\\t',  format(res['new_cases'][i], '.0f'))\n",
    "\n",
    "    \n",
    "plt.title(\"new covid cases in Past ten days in Brazil \")\n",
    "plt.xlabel(\"Date\")\n",
    "plt.ylabel(\"Numbers\")\n",
    "\n",
    "plt.plot(res['date'],res['new_cases'], color='b')"
   ]
  },
  {
   "cell_type": "code",
   "execution_count": null,
   "metadata": {},
   "outputs": [],
   "source": [
    "# Group by continent, show total of new covid cases for each continent and sorted by total number (3 pts)\n",
    "#      Plot the result by pie chart \n",
    "df\n",
    "res = df.groupby(df.continent).new_cases.sum().sort_values(ascending=False)\n",
    "#print(res)\n",
    "\n",
    "print('Total covid new cases by Continent')\n",
    "print('-----------------------------------')\n",
    "names = res.index\n",
    "for name in names:\n",
    "    print('{0: <20}'.format(name), '\\t', format(res[name],'.0f'))\n",
    "    \n",
    "\n",
    "res.plot(kind='pie', title='Covid new cases by Continent',autopct='%1.1f%%')"
   ]
  },
  {
   "cell_type": "code",
   "execution_count": null,
   "metadata": {},
   "outputs": [],
   "source": [
    "\n",
    "res"
   ]
  },
  {
   "cell_type": "code",
   "execution_count": null,
   "metadata": {},
   "outputs": [],
   "source": [
    "\n",
    "\n",
    "# Show the top 10 countries which have the most population  \n",
    "df\n",
    "\n"
   ]
  },
  {
   "cell_type": "code",
   "execution_count": null,
   "metadata": {},
   "outputs": [],
   "source": [
    "plt.rc('figure', figsize=(10, 8))\n",
    "\n",
    "# Show the world poplation\n",
    "# Show the  population by each continent and show it as pie chart\n",
    "\n"
   ]
  },
  {
   "cell_type": "code",
   "execution_count": null,
   "metadata": {},
   "outputs": [],
   "source": []
  }
 ],
 "metadata": {
  "kernelspec": {
   "display_name": "Python 3",
   "language": "python",
   "name": "python3"
  },
  "language_info": {
   "codemirror_mode": {
    "name": "ipython",
    "version": 3
   },
   "file_extension": ".py",
   "mimetype": "text/x-python",
   "name": "python",
   "nbconvert_exporter": "python",
   "pygments_lexer": "ipython3",
   "version": "3.7.3"
  }
 },
 "nbformat": 4,
 "nbformat_minor": 2
}
